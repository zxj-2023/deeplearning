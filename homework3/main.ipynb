{
 "cells": [
  {
   "cell_type": "markdown",
   "metadata": {},
   "source": [
    "请点击[此处](https://ai.baidu.com/docs#/AIStudio_Project_Notebook/a38e5576)查看本环境基本用法.  <br>\n",
    "Please click [here ](https://ai.baidu.com/docs#/AIStudio_Project_Notebook/a38e5576) for more detailed instructions. "
   ]
  },
  {
   "cell_type": "markdown",
   "metadata": {},
   "source": [
    "# 第三章作业： Logistic回归以及softmax回归\n",
    "\n",
    "\n",
    "## 问题描述\n",
    "1. 完成 `logistic_regression-exercise.ipnb`中的填空\n",
    "   * 填空一：实现sigmoid的交叉熵损失函数(不使用tf内置的loss 函数)\n",
    "   \n",
    "1. 完成 `softmax_regression-exercise.ipnb`中的填空\n",
    "    * 填空一：在__init__构造函数中建立模型所需的参数\n",
    "    * 填空二：实现softmax的交叉熵损失函数(不使用tf内置的loss 函数)\n",
    "\n",
    "### 环境要求： tensorflow 2.0\n"
   ]
  }
 ],
 "metadata": {
  "kernelspec": {
   "display_name": "Python 3",
   "language": "python",
   "name": "py35-paddle1.2.0"
  },
  "language_info": {
   "codemirror_mode": {
    "name": "ipython",
    "version": 3
   },
   "file_extension": ".py",
   "mimetype": "text/x-python",
   "name": "python",
   "nbconvert_exporter": "python",
   "pygments_lexer": "ipython3",
   "version": "3.7.4"
  }
 },
 "nbformat": 4,
 "nbformat_minor": 4
}
