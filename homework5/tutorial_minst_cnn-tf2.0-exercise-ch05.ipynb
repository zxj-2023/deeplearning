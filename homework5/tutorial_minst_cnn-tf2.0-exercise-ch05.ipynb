{
 "cells": [
  {
   "cell_type": "markdown",
   "metadata": {
    "pycharm": {
     "name": "#%% md\n"
    }
   },
   "source": [
    "## 准备数据"
   ]
  },
  {
   "cell_type": "code",
   "execution_count": 5,
   "metadata": {
    "pycharm": {
     "is_executing": true,
     "name": "#%%\n"
    },
    "scrolled": true
   },
   "outputs": [],
   "source": [
    "import os\n",
    "import numpy as np\n",
    "import tensorflow as tf\n",
    "from tensorflow import keras\n",
    "from tensorflow.keras import layers, optimizers, datasets, Model\n",
    "\n",
    "os.environ['TF_CPP_MIN_LOG_LEVEL'] = '2'  # or any {'0', '1', '2'}\n",
    "\n",
    "def mnist_dataset():\n",
    "    (x, y), (x_test, y_test) = datasets.mnist.load_data()\n",
    "    #normalize\n",
    "    x = x/255.0\n",
    "    x_test = x_test/255.0\n",
    "    # Add a channels dimension\n",
    "    x = x[..., tf.newaxis].astype(\"float32\")\n",
    "    x_test = x_test[..., tf.newaxis].astype(\"float32\")\n",
    "    # 使用 tf.data 来将数据集切分为 batch 以及混淆数据集：\n",
    "    train_ds = tf.data.Dataset.from_tensor_slices(\n",
    "    (x, y)).shuffle(10000).batch(32)\n",
    "    test_ds = tf.data.Dataset.from_tensor_slices((x_test, y_test)).batch(1000)\n",
    "    return train_ds, test_ds"
   ]
  },
  {
   "cell_type": "markdown",
   "metadata": {
    "pycharm": {
     "name": "#%% md\n"
    }
   },
   "source": [
    "## 建立模型"
   ]
  },
  {
   "cell_type": "code",
   "execution_count": 6,
   "metadata": {
    "pycharm": {
     "name": "#%%\n"
    }
   },
   "outputs": [],
   "source": [
    "class myModel(Model):\n",
    "    def __init__(self):\n",
    "        super(myModel, self).__init__()\n",
    "        #################### 填空一\n",
    "        '''声明模型对应的参数'''\n",
    "        #卷积层1： patch 7x7, in size 1, out size 32，  滑动步长 1， padding  same, 激活函数 relu (tf.keras.layers.Conv2D)\n",
    "        self.conv1 = layers.Conv2D(filters=32, kernel_size=7, strides=1, padding='same', activation='relu')\n",
    "        #池化层1：  滑动步长 是 2步; 池化窗口的尺度 高和宽度都是2; padding 方式  same (layers.MaxPool2D)\n",
    "        self.pool1 = layers.MaxPool2D(pool_size=2, strides=2, padding='same')\n",
    "        #卷积层2： patch 5x5, in size 32, out size 64，  滑动步长 1， padding 方式 same, 激活函数 relu\n",
    "        self.conv2 = layers.Conv2D(filters=64, kernel_size=5, strides=1, padding='same', activation='relu')\n",
    "        #池化层2：  滑动步长 是 2步; 池化窗口的尺度 高和宽度都是2; padding 方式  same\n",
    "        self.pool2 = layers.MaxPool2D(pool_size=2, strides=2, padding='same')\n",
    "        # 铺平特征映射\n",
    "        self.flatten = layers.Flatten()\n",
    "        # 全连接层 1: output dim 1024, 激活函数 relu： (tf.keras.layers.Dense)\n",
    "        self.d1 = layers.Dense(1024, activation='relu')\n",
    "        # 全连接层 2: output dim 10：\n",
    "        self.d2 = layers.Dense(10)  # 输出未归一化的 logits\n",
    "\n",
    "        ####################\n",
    "    def call(self, x, training=False):\n",
    "        ####################\n",
    "        '''实现模型函数体，返回未归一化的logits'''\n",
    "        x = self.conv1(x)\n",
    "        x = self.pool1(x)\n",
    "        x = self.conv2(x)\n",
    "        x = self.pool2(x)\n",
    "        x = self.flatten(x)\n",
    "        x = self.d1(x)\n",
    "        x = self.d2(x)\n",
    "        return x\n",
    "        ####################\n",
    "        return logits\n",
    "        \n",
    "model = myModel()\n",
    "loss_object = tf.keras.losses.SparseCategoricalCrossentropy(from_logits=True)\n",
    "optimizer = tf.keras.optimizers.Adam()"
   ]
  },
  {
   "cell_type": "markdown",
   "metadata": {
    "pycharm": {
     "name": "#%% md\n"
    }
   },
   "source": [
    "## 计算 loss"
   ]
  },
  {
   "cell_type": "code",
   "execution_count": 7,
   "metadata": {
    "pycharm": {
     "name": "#%%\n"
    }
   },
   "outputs": [],
   "source": [
    "train_loss = tf.keras.metrics.Mean(name='train_loss')\n",
    "train_accuracy = tf.keras.metrics.SparseCategoricalAccuracy(name='train_accuracy')\n",
    "\n",
    "test_loss = tf.keras.metrics.Mean(name='test_loss')\n",
    "test_accuracy = tf.keras.metrics.SparseCategoricalAccuracy(name='test_accuracy')\n",
    "\n",
    "@tf.function\n",
    "def train_one_step(model, optimizer, x, y):\n",
    "    with tf.GradientTape() as tape:\n",
    "        predictions = model(x, training=True)\n",
    "        loss = loss_object(y, predictions)\n",
    "\n",
    "    # compute gradient\n",
    "    gradients = tape.gradient(loss,model.trainable_variables)\n",
    "    optimizer.apply_gradients(zip(gradients, model.trainable_variables))\n",
    "\n",
    "    train_loss(loss)\n",
    "    train_accuracy(y, predictions)\n",
    "\n",
    "@tf.function\n",
    "def test_step(model,images, labels):\n",
    "  predictions = model(images, training=False)\n",
    "  t_loss = loss_object(labels, predictions)\n",
    "\n",
    "  test_loss(t_loss)\n",
    "  test_accuracy(labels, predictions)"
   ]
  },
  {
   "cell_type": "markdown",
   "metadata": {
    "pycharm": {
     "name": "#%% md\n"
    }
   },
   "source": [
    "## 实际训练"
   ]
  },
  {
   "cell_type": "code",
   "execution_count": 8,
   "metadata": {
    "pycharm": {
     "name": "#%%\n"
    }
   },
   "outputs": [
    {
     "name": "stdout",
     "output_type": "stream",
     "text": [
      "Epoch 1, Loss: 0.10241908580064774, Accuracy: 96.80332946777344, Test Loss: 0.05334934592247009, Test Accuracy: 98.15999603271484\n",
      "Epoch 2, Loss: 0.03817015141248703, Accuracy: 98.83000183105469, Test Loss: 0.03605320304632187, Test Accuracy: 98.83999633789062\n",
      "Epoch 3, Loss: 0.025063052773475647, Accuracy: 99.16999816894531, Test Loss: 0.0350714735686779, Test Accuracy: 98.90999603271484\n",
      "Epoch 4, Loss: 0.019615016877651215, Accuracy: 99.38166809082031, Test Loss: 0.037959299981594086, Test Accuracy: 99.0\n",
      "Epoch 5, Loss: 0.016512813046574593, Accuracy: 99.50666809082031, Test Loss: 0.04503753036260605, Test Accuracy: 98.68000030517578\n"
     ]
    }
   ],
   "source": [
    "train_ds, test_ds = mnist_dataset()\n",
    "EPOCHS = 5\n",
    "\n",
    "for epoch in range(EPOCHS):\n",
    "  # Reset the metrics at the start of the next epoch\n",
    "  train_loss.reset_state()\n",
    "  train_accuracy.reset_state()\n",
    "  test_loss.reset_state()\n",
    "  test_accuracy.reset_state()\n",
    "\n",
    "  for images, labels in train_ds:\n",
    "    train_one_step(model,optimizer,images, labels)\n",
    "\n",
    "  for test_images, test_labels in test_ds:\n",
    "    test_step(model,test_images, test_labels)\n",
    "\n",
    "  print(\n",
    "    f'Epoch {epoch + 1}, '\n",
    "    f'Loss: {train_loss.result()}, '\n",
    "    f'Accuracy: {train_accuracy.result() * 100}, '\n",
    "    f'Test Loss: {test_loss.result()}, '\n",
    "    f'Test Accuracy: {test_accuracy.result() * 100}'\n",
    "  )"
   ]
  },
  {
   "cell_type": "code",
   "execution_count": null,
   "metadata": {
    "pycharm": {
     "name": "#%%\n"
    }
   },
   "outputs": [],
   "source": []
  },
  {
   "cell_type": "code",
   "execution_count": null,
   "metadata": {
    "pycharm": {
     "name": "#%%\n"
    }
   },
   "outputs": [],
   "source": []
  },
  {
   "cell_type": "code",
   "execution_count": null,
   "metadata": {
    "pycharm": {
     "name": "#%%\n"
    }
   },
   "outputs": [],
   "source": []
  },
  {
   "cell_type": "code",
   "execution_count": null,
   "metadata": {
    "pycharm": {
     "name": "#%%\n"
    }
   },
   "outputs": [],
   "source": []
  },
  {
   "cell_type": "code",
   "execution_count": null,
   "metadata": {
    "pycharm": {
     "name": "#%%\n"
    }
   },
   "outputs": [],
   "source": []
  }
 ],
 "metadata": {
  "kernelspec": {
   "display_name": ".venv",
   "language": "python",
   "name": "python3"
  },
  "language_info": {
   "codemirror_mode": {
    "name": "ipython",
    "version": 3
   },
   "file_extension": ".py",
   "mimetype": "text/x-python",
   "name": "python",
   "nbconvert_exporter": "python",
   "pygments_lexer": "ipython3",
   "version": "3.12.9"
  }
 },
 "nbformat": 4,
 "nbformat_minor": 4
}
