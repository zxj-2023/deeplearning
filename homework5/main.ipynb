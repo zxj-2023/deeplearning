{
 "cells": [
  {
   "cell_type": "markdown",
   "metadata": {},
   "source": [
    "请点击[此处](https://ai.baidu.com/docs#/AIStudio_Project_Notebook/a38e5576)查看本环境基本用法.  <br>\n",
    "Please click [here ](https://ai.baidu.com/docs#/AIStudio_Project_Notebook/a38e5576) for more detailed instructions. "
   ]
  },
  {
   "cell_type": "markdown",
   "metadata": {},
   "source": [
    "\n",
    "\n",
    "# 卷积神经网络(CNN)\n",
    "\n",
    "\n",
    "\n",
    "## 问题描述：\n",
    "\n",
    "利用卷积神经网络，实现对MNIST 数据集的分类问题。\n",
    "\n",
    "\n",
    "\n",
    "\n",
    "## 数据集: \n",
    "\n",
    " \tMNIST数据集包括60000张训练图片和10000张测试图片。图片样本的数量已经足够训练一个很复杂的模型（例如 CNN的深层神经网络）。它经常被用来作为一个新 的模式识别模型的测试用例。而且它也是一个方便学生和研究者们执行用例的数据集。除此之外，MNIST数据集是一个相对较小的数据集，可以在你的笔记本CPUs上面直接执行\n",
    "\n",
    "\n",
    "\n",
    "\n",
    "\n",
    "## 题目要求： \n",
    "\n",
    "tensorflow 2.0版的卷积神经网络，补全两层卷积+两层池化+两层全连接层的 6个空；\n",
    "\n",
    "pytorch版本的卷积神经网络 需要补齐  self.conv1 中 nn.Conv2d( )  和 self.conv2( ) 的参数，还需要填写 x = x.view( )中的内容。\n",
    "\n",
    "两个版本的训练精度都应该在 96% 以上。"
   ]
  }
 ],
 "metadata": {
  "kernelspec": {
   "display_name": "Python 3",
   "language": "python",
   "name": "py35-paddle1.2.0"
  },
  "language_info": {
   "codemirror_mode": {
    "name": "ipython",
    "version": 3
   },
   "file_extension": ".py",
   "mimetype": "text/x-python",
   "name": "python",
   "nbconvert_exporter": "python",
   "pygments_lexer": "ipython3",
   "version": "3.7.4"
  }
 },
 "nbformat": 4,
 "nbformat_minor": 4
}
