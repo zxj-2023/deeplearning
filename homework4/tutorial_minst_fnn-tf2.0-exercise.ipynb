{
 "cells": [
  {
   "cell_type": "markdown",
   "metadata": {},
   "source": [
    "## 准备数据"
   ]
  },
  {
   "cell_type": "code",
   "execution_count": 3,
   "metadata": {
    "scrolled": true
   },
   "outputs": [],
   "source": [
    "import os\n",
    "import numpy as np\n",
    "import tensorflow as tf\n",
    "from tensorflow import keras\n",
    "from tensorflow.keras import layers, optimizers, datasets\n",
    "\n",
    "os.environ['TF_CPP_MIN_LOG_LEVEL'] = '2'  # or any {'0', '1', '2'}\n",
    "\n",
    "def mnist_dataset():\n",
    "    (x, y), (x_test, y_test) = datasets.mnist.load_data()\n",
    "    #normalize\n",
    "    x = x/255.0\n",
    "    x_test = x_test/255.0\n",
    "    \n",
    "    return (x, y), (x_test, y_test)"
   ]
  },
  {
   "cell_type": "code",
   "execution_count": 4,
   "metadata": {
    "scrolled": true
   },
   "outputs": [
    {
     "name": "stdout",
     "output_type": "stream",
     "text": [
      "[(1, 'a'), (2, 'b'), (3, 'c'), (4, 'd')]\n"
     ]
    }
   ],
   "source": [
    "print(list(zip([1, 2, 3, 4], ['a', 'b', 'c', 'd'])))"
   ]
  },
  {
   "cell_type": "markdown",
   "metadata": {},
   "source": [
    "## 建立模型"
   ]
  },
  {
   "cell_type": "code",
   "execution_count": 5,
   "metadata": {
    "scrolled": true
   },
   "outputs": [],
   "source": [
    "class myModel:\n",
    "    def __init__(self):\n",
    "        ####################\n",
    "        '''声明模型对应的参数'''\n",
    "        ####################\n",
    "        # 输入层到隐藏层的权重和偏置 (784 -> 256)\n",
    "        self.W1 = tf.Variable(tf.random.normal([784, 256], stddev=0.1))\n",
    "        self.b1 = tf.Variable(tf.zeros([256]))\n",
    "        \n",
    "        # 隐藏层到输出层的权重和偏置 (256 -> 10)\n",
    "        self.W2 = tf.Variable(tf.random.normal([256, 10], stddev=0.1))\n",
    "        self.b2 = tf.Variable(tf.zeros([10]))\n",
    "        \n",
    "    def __call__(self, x):\n",
    "        ####################\n",
    "        '''实现模型函数体，返回未归一化的logits'''\n",
    "        ####################\n",
    "        # 将输入图像展平为向量 (batch_size, 28, 28) -> (batch_size, 784)\n",
    "        x = tf.reshape(x, [-1, 784])\n",
    "        \n",
    "        # 第一层：线性变换 + ReLU激活\n",
    "        h1 = tf.nn.relu(tf.matmul(x, self.W1) + self.b1)\n",
    "        \n",
    "        # 第二层：线性变换得到logits\n",
    "        logits = tf.matmul(h1, self.W2) + self.b2\n",
    "        \n",
    "        return logits\n",
    "        \n",
    "model = myModel()\n",
    "\n",
    "optimizer = optimizers.Adam()"
   ]
  },
  {
   "cell_type": "markdown",
   "metadata": {},
   "source": [
    "## 计算 loss"
   ]
  },
  {
   "cell_type": "code",
   "execution_count": 6,
   "metadata": {
    "scrolled": true
   },
   "outputs": [],
   "source": [
    "@tf.function\n",
    "def compute_loss(logits, labels):\n",
    "    return tf.reduce_mean(\n",
    "        tf.nn.sparse_softmax_cross_entropy_with_logits(\n",
    "            logits=logits, labels=labels))\n",
    "\n",
    "@tf.function\n",
    "def compute_accuracy(logits, labels):\n",
    "    predictions = tf.argmax(logits, axis=1)\n",
    "    return tf.reduce_mean(tf.cast(tf.equal(predictions, labels), tf.float32))\n",
    "\n",
    "@tf.function\n",
    "def train_one_step(model, optimizer, x, y):\n",
    "    with tf.GradientTape() as tape:\n",
    "        logits = model(x)\n",
    "        loss = compute_loss(logits, y)\n",
    "\n",
    "    # compute gradient\n",
    "    trainable_vars = [model.W1, model.W2, model.b1, model.b2]\n",
    "    grads = tape.gradient(loss, trainable_vars)\n",
    "    for g, v in zip(grads, trainable_vars):\n",
    "        v.assign_sub(0.01*g)\n",
    "\n",
    "    accuracy = compute_accuracy(logits, y)\n",
    "\n",
    "    # loss and accuracy is scalar tensor\n",
    "    return loss, accuracy\n",
    "\n",
    "@tf.function\n",
    "def test(model, x, y):\n",
    "    logits = model(x)\n",
    "    loss = compute_loss(logits, y)\n",
    "    accuracy = compute_accuracy(logits, y)\n",
    "    return loss, accuracy"
   ]
  },
  {
   "cell_type": "markdown",
   "metadata": {},
   "source": [
    "## 实际训练"
   ]
  },
  {
   "cell_type": "code",
   "execution_count": 7,
   "metadata": {
    "scrolled": true
   },
   "outputs": [
    {
     "name": "stdout",
     "output_type": "stream",
     "text": [
      "Downloading data from https://storage.googleapis.com/tensorflow/tf-keras-datasets/mnist.npz\n",
      "\u001b[1m11490434/11490434\u001b[0m \u001b[32m━━━━━━━━━━━━━━━━━━━━\u001b[0m\u001b[37m\u001b[0m \u001b[1m2s\u001b[0m 0us/step\n",
      "epoch 0 : loss 3.1276379 ; accuracy 0.0888\n",
      "epoch 1 : loss 3.014446 ; accuracy 0.089383334\n",
      "epoch 2 : loss 2.9246955 ; accuracy 0.08865\n",
      "epoch 3 : loss 2.8498628 ; accuracy 0.08918333\n",
      "epoch 4 : loss 2.7853532 ; accuracy 0.0904\n",
      "epoch 5 : loss 2.7284527 ; accuracy 0.09138333\n",
      "epoch 6 : loss 2.677417 ; accuracy 0.09328333\n",
      "epoch 7 : loss 2.6310568 ; accuracy 0.0951\n",
      "epoch 8 : loss 2.5885172 ; accuracy 0.09826667\n",
      "epoch 9 : loss 2.5491605 ; accuracy 0.1018\n",
      "epoch 10 : loss 2.5125062 ; accuracy 0.10598333\n",
      "epoch 11 : loss 2.478175 ; accuracy 0.11025\n",
      "epoch 12 : loss 2.445873 ; accuracy 0.11438333\n",
      "epoch 13 : loss 2.4153671 ; accuracy 0.119166665\n",
      "epoch 14 : loss 2.3864667 ; accuracy 0.1243\n",
      "epoch 15 : loss 2.3590162 ; accuracy 0.13026667\n",
      "epoch 16 : loss 2.3328855 ; accuracy 0.13656667\n",
      "epoch 17 : loss 2.3079612 ; accuracy 0.14325\n",
      "epoch 18 : loss 2.2841454 ; accuracy 0.15095\n",
      "epoch 19 : loss 2.2613494 ; accuracy 0.15991667\n",
      "epoch 20 : loss 2.2394917 ; accuracy 0.16958334\n",
      "epoch 21 : loss 2.218495 ; accuracy 0.17923333\n",
      "epoch 22 : loss 2.19829 ; accuracy 0.191\n",
      "epoch 23 : loss 2.178809 ; accuracy 0.20251666\n",
      "epoch 24 : loss 2.159989 ; accuracy 0.21461667\n",
      "epoch 25 : loss 2.1417706 ; accuracy 0.2268\n",
      "epoch 26 : loss 2.124102 ; accuracy 0.23951666\n",
      "epoch 27 : loss 2.1069314 ; accuracy 0.25136667\n",
      "epoch 28 : loss 2.0902154 ; accuracy 0.26315\n",
      "epoch 29 : loss 2.0739107 ; accuracy 0.27455\n",
      "epoch 30 : loss 2.0579805 ; accuracy 0.2853\n",
      "epoch 31 : loss 2.0423932 ; accuracy 0.29588333\n",
      "epoch 32 : loss 2.0271213 ; accuracy 0.30628332\n",
      "epoch 33 : loss 2.0121408 ; accuracy 0.31613332\n",
      "epoch 34 : loss 1.9974307 ; accuracy 0.32538334\n",
      "epoch 35 : loss 1.9829726 ; accuracy 0.33448333\n",
      "epoch 36 : loss 1.9687496 ; accuracy 0.34331667\n",
      "epoch 37 : loss 1.954749 ; accuracy 0.35218334\n",
      "epoch 38 : loss 1.9409591 ; accuracy 0.36078334\n",
      "epoch 39 : loss 1.9273704 ; accuracy 0.36836666\n",
      "epoch 40 : loss 1.9139758 ; accuracy 0.37705\n",
      "epoch 41 : loss 1.9007679 ; accuracy 0.38435\n",
      "epoch 42 : loss 1.8877404 ; accuracy 0.39195\n",
      "epoch 43 : loss 1.8748868 ; accuracy 0.39963335\n",
      "epoch 44 : loss 1.8622018 ; accuracy 0.40635\n",
      "epoch 45 : loss 1.8496826 ; accuracy 0.41313332\n",
      "epoch 46 : loss 1.837325 ; accuracy 0.42013332\n",
      "epoch 47 : loss 1.8251245 ; accuracy 0.42658332\n",
      "epoch 48 : loss 1.8130786 ; accuracy 0.43286666\n",
      "epoch 49 : loss 1.8011855 ; accuracy 0.43971667\n",
      "test loss 1.7851627 ; accuracy 0.4466\n"
     ]
    }
   ],
   "source": [
    "train_data, test_data = mnist_dataset()\n",
    "for epoch in range(50):\n",
    "    loss, accuracy = train_one_step(model, optimizer, \n",
    "                                    tf.constant(train_data[0], dtype=tf.float32), \n",
    "                                    tf.constant(train_data[1], dtype=tf.int64))\n",
    "    print('epoch', epoch, ': loss', loss.numpy(), '; accuracy', accuracy.numpy())\n",
    "loss, accuracy = test(model, \n",
    "                      tf.constant(test_data[0], dtype=tf.float32), \n",
    "                      tf.constant(test_data[1], dtype=tf.int64))\n",
    "\n",
    "print('test loss', loss.numpy(), '; accuracy', accuracy.numpy())"
   ]
  }
 ],
 "metadata": {
  "kernelspec": {
   "display_name": ".venv",
   "language": "python",
   "name": "python3"
  },
  "language_info": {
   "codemirror_mode": {
    "name": "ipython",
    "version": 3
   },
   "file_extension": ".py",
   "mimetype": "text/x-python",
   "name": "python",
   "nbconvert_exporter": "python",
   "pygments_lexer": "ipython3",
   "version": "3.12.9"
  }
 },
 "nbformat": 4,
 "nbformat_minor": 4
}
