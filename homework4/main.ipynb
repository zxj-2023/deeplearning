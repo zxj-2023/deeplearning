{
 "cells": [
  {
   "cell_type": "markdown",
   "metadata": {},
   "source": [
    "请点击[此处](https://ai.baidu.com/docs#/AIStudio_Project_Notebook/a38e5576)查看本环境基本用法.  <br>\n",
    "Please click [here ](https://ai.baidu.com/docs#/AIStudio_Project_Notebook/a38e5576) for more detailed instructions. "
   ]
  },
  {
   "cell_type": "markdown",
   "metadata": {},
   "source": [
    "# 1. 全连接神经网络\n",
    "\n",
    "## 问题描述：\n",
    "\n",
    "​\t利用numpy 和tensorflow 、pytorch 搭建全连接神经网络。使用numpy 实现此练习需要自己手动求导，而tensorflow 和pytorch 具有自动求导机制。\n",
    "\n",
    "\n",
    "\n",
    "\n",
    "\n",
    "## 数据集:\n",
    "\n",
    " \tMNIST数据集包括60000张训练图片和10000张测试图片。图片样本的数量已经足够训练一个很复杂的模型（例如 CNN的深层神经网络）。它经常被用来作为一个新 的模式识别模型的测试用例。而且它也是一个方便学生和研究者们执行用例的数据集。除此之外，MNIST数据集是一个相对较小的数据集，可以在你的笔记本CPUs上面直接执行\n",
    "\n",
    "\n",
    "\n",
    "\n",
    "\n",
    "## 题目要求：\n",
    "\n",
    "​\t补全本章节中所有*.ipynb文件中提示补全的部分。\n",
    "\n",
    "\n",
    "\n",
    "\n",
    "\n",
    "# 2. 函数拟合\n",
    "\n",
    "## 问题描述：\n",
    "\n",
    "​\t理论和实验证明，一个两层的ReLU网络可以模拟任何函数[1~5]。请自行定义一个函数, 并使用基于ReLU的神经网络来拟合此函数。\n",
    "\n",
    "\n",
    "\n",
    "\n",
    "## 要求: \n",
    "\n",
    " \t\n",
    "\n",
    "- 请自行在函数上采样生成训练集和测试集，使用训练集来训练神经网络，使用测试集来验证拟合效果。\n",
    "- 可以使用深度学习框架来编写模型，如tensorflow、pytorch、keras等。\n",
    "  - 如果不使用上述框架，直接用NumPy实现可以最高加5分的附加分。\n",
    "- 提交时请一并提交代码和报告。\n",
    "  - 代码建议注释清楚（5分）\n",
    "  - 报告至少应包含以下部分：（5分）\n",
    "    - 函数定义、数据采集、模型描述、拟合效果。\n",
    "\n",
    "\n",
    "## 示例： \n",
    "\n",
    "![](fitting.jpg)\n",
    "\n",
    "## 参考文献： \n",
    "\n",
    "[1] G. Cybenko. 1989. Approximation by superpositions of a sigmoidal function.\n",
    "\n",
    "[2] K. Hornik, M. Stinchcombe, and H. White. 1989. Multilayer feedforward networks are universal approximators.\n",
    "\n",
    "[3] Moshe Leshno, et al. 1993. Multilayer feedforward networks with a nonpolynomial activation function can approximate any function\n",
    "\n",
    "[4] Vinod Nair and Geoffrey E. Hinton. 2010. Rectified linear units improve restricted boltzmann machines.\n",
    "\n",
    "[5] Xavier Glorot, Antoine Bordes, Yoshua Bengio. 2011. Deep Sparse Rectifier Neural Networks. PMLR 15:315-323.\n",
    "\n",
    "## 实验环境: tensrflow 2.0\n",
    "\n"
   ]
  }
 ],
 "metadata": {
  "kernelspec": {
   "display_name": "Python 3",
   "language": "python",
   "name": "py35-paddle1.2.0"
  },
  "language_info": {
   "codemirror_mode": {
    "name": "ipython",
    "version": 3
   },
   "file_extension": ".py",
   "mimetype": "text/x-python",
   "name": "python",
   "nbconvert_exporter": "python",
   "pygments_lexer": "ipython3",
   "version": "3.7.4"
  }
 },
 "nbformat": 4,
 "nbformat_minor": 4
}
